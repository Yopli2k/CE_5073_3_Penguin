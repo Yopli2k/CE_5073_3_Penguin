{
 "cells": [
  {
   "metadata": {},
   "cell_type": "markdown",
   "source": [
    "# Peticiones de predicción\n",
    "## Test Data"
   ],
   "id": "2fa846a8a88056a7"
  },
  {
   "metadata": {
    "ExecuteTime": {
     "end_time": "2024-12-07T00:04:32.757871Z",
     "start_time": "2024-12-07T00:04:32.751453Z"
    }
   },
   "cell_type": "code",
   "source": [
    "import json\n",
    "\n",
    "penguin_1 = {\n",
    "    \"island\": \"Torgersen\",\n",
    "    \"culmen_length_mm\": 39.1,\n",
    "    \"culmen_depth_mm\": 18.7,\n",
    "    \"flipper_length_mm\": 181,\n",
    "    \"body_mass_g\": 3750,\n",
    "    \"sex\": \"MALE\",\n",
    "}\n",
    "penguin_1_json = json.dumps(penguin_1)\n",
    "\n",
    "penguin_2 = {\n",
    "    \"island\": \"Biscoe\",\n",
    "    \"culmen_length_mm\": 34.6,\n",
    "    \"culmen_depth_mm\": 17.2,\n",
    "    \"flipper_length_mm\": 189,\n",
    "    \"body_mass_g\": 3200,\n",
    "    \"sex\": \"FEMALE\",\n",
    "}\n",
    "penguin_2_json = json.dumps(penguin_2)\n",
    "\n",
    "penguin_3 = {\n",
    "    \"island\": \"Dream\",\n",
    "    \"culmen_length_mm\": 50.4,\n",
    "    \"culmen_depth_mm\": 15.7,\n",
    "    \"flipper_length_mm\": 224,\n",
    "    \"body_mass_g\": 5550,\n",
    "    \"sex\": \"MALE\",\n",
    "}\n",
    "penguin_3_json = json.dumps(penguin_3)"
   ],
   "id": "c5e75370966d5965",
   "outputs": [],
   "execution_count": 1
  },
  {
   "metadata": {},
   "cell_type": "markdown",
   "source": "## Logistic Regression",
   "id": "229c2fcebfe9ec06"
  },
  {
   "cell_type": "code",
   "id": "initial_id",
   "metadata": {
    "collapsed": true,
    "ExecuteTime": {
     "end_time": "2024-12-07T00:15:46.615895Z",
     "start_time": "2024-12-07T00:15:45.921476Z"
    }
   },
   "source": [
    "!curl --request POST http://127.0.0.1:8000/logistic \\\n",
    "     --header \"Content-Type: application/json\" \\\n",
    "     --data-raw '{penguin_1_json}'"
   ],
   "outputs": [
    {
     "name": "stdout",
     "output_type": "stream",
     "text": [
      "{\r\n",
      "  \"percentage\": 99.926,\r\n",
      "  \"probability\": 0.9992613268508522,\r\n",
      "  \"species\": \"Adelie\"\r\n",
      "}\r\n"
     ]
    }
   ],
   "execution_count": 5
  },
  {
   "metadata": {
    "ExecuteTime": {
     "end_time": "2024-12-07T00:17:58.747133Z",
     "start_time": "2024-12-07T00:17:58.029479Z"
    }
   },
   "cell_type": "code",
   "source": [
    "!curl --request POST http://127.0.0.1:8000/logistic \\\n",
    "     --header \"Content-Type: application/json\" \\\n",
    "     --data-raw '{penguin_2_json}'"
   ],
   "id": "f273dbc2d1cd3eb6",
   "outputs": [
    {
     "name": "stdout",
     "output_type": "stream",
     "text": [
      "{\r\n",
      "  \"percentage\": 99.862,\r\n",
      "  \"probability\": 0.998624552756153,\r\n",
      "  \"species\": \"Adelie\"\r\n",
      "}\r\n"
     ]
    }
   ],
   "execution_count": 6
  },
  {
   "metadata": {
    "ExecuteTime": {
     "end_time": "2024-12-07T00:18:01.289530Z",
     "start_time": "2024-12-07T00:18:01.156207Z"
    }
   },
   "cell_type": "code",
   "source": [
    "!curl --request POST http://127.0.0.1:8000/logistic \\\n",
    "     --header \"Content-Type: application/json\" \\\n",
    "     --data-raw '{penguin_3_json}'"
   ],
   "id": "ccc7eb77ec6c8ce7",
   "outputs": [
    {
     "name": "stdout",
     "output_type": "stream",
     "text": [
      "{\r\n",
      "  \"percentage\": 97.025,\r\n",
      "  \"probability\": 0.9702492872783246,\r\n",
      "  \"species\": \"Gentoo\"\r\n",
      "}\r\n"
     ]
    }
   ],
   "execution_count": 7
  },
  {
   "metadata": {},
   "cell_type": "markdown",
   "source": "## SVM",
   "id": "48a2b881af5b15df"
  },
  {
   "metadata": {
    "ExecuteTime": {
     "end_time": "2024-12-07T00:18:06.149573Z",
     "start_time": "2024-12-07T00:18:06.016831Z"
    }
   },
   "cell_type": "code",
   "source": [
    "!curl --request POST http://127.0.0.1:8000/svm \\\n",
    "     --header \"Content-Type: application/json\" \\\n",
    "     --data-raw '{penguin_1_json}'"
   ],
   "id": "68deccd06e01aa63",
   "outputs": [
    {
     "name": "stdout",
     "output_type": "stream",
     "text": [
      "{\r\n",
      "  \"percentage\": 99.953,\r\n",
      "  \"probability\": 0.9995308269063081,\r\n",
      "  \"species\": \"Adelie\"\r\n",
      "}\r\n"
     ]
    }
   ],
   "execution_count": 8
  },
  {
   "metadata": {
    "ExecuteTime": {
     "end_time": "2024-12-07T00:18:09.197202Z",
     "start_time": "2024-12-07T00:18:09.062781Z"
    }
   },
   "cell_type": "code",
   "source": [
    "!curl --request POST http://127.0.0.1:8000/svm \\\n",
    "     --header \"Content-Type: application/json\" \\\n",
    "     --data-raw '{penguin_2_json}'"
   ],
   "id": "3f1de2db59e2477",
   "outputs": [
    {
     "name": "stdout",
     "output_type": "stream",
     "text": [
      "{\r\n",
      "  \"percentage\": 99.673,\r\n",
      "  \"probability\": 0.9967290284032627,\r\n",
      "  \"species\": \"Adelie\"\r\n",
      "}\r\n"
     ]
    }
   ],
   "execution_count": 9
  },
  {
   "metadata": {
    "ExecuteTime": {
     "end_time": "2024-12-07T00:18:11.918012Z",
     "start_time": "2024-12-07T00:18:11.759789Z"
    }
   },
   "cell_type": "code",
   "source": [
    "!curl --request POST http://127.0.0.1:8000/svm \\\n",
    "     --header \"Content-Type: application/json\" \\\n",
    "     --data-raw '{penguin_3_json}'"
   ],
   "id": "4d1a6137603c3e63",
   "outputs": [
    {
     "name": "stdout",
     "output_type": "stream",
     "text": [
      "{\r\n",
      "  \"percentage\": 86.82,\r\n",
      "  \"probability\": 0.8682035047544728,\r\n",
      "  \"species\": \"Gentoo\"\r\n",
      "}\r\n"
     ]
    }
   ],
   "execution_count": 10
  },
  {
   "metadata": {},
   "cell_type": "markdown",
   "source": "## Decision Trees",
   "id": "53ac539bdc0f7bfb"
  },
  {
   "metadata": {
    "ExecuteTime": {
     "end_time": "2024-12-07T00:18:15.544445Z",
     "start_time": "2024-12-07T00:18:15.374736Z"
    }
   },
   "cell_type": "code",
   "source": [
    "!curl --request POST http://127.0.0.1:8000/dtree \\\n",
    "     --header \"Content-Type: application/json\" \\\n",
    "     --data-raw '{penguin_1_json}'"
   ],
   "id": "653c18036c796328",
   "outputs": [
    {
     "name": "stdout",
     "output_type": "stream",
     "text": [
      "{\r\n",
      "  \"percentage\": 100.0,\r\n",
      "  \"probability\": 1,\r\n",
      "  \"species\": \"Adelie\"\r\n",
      "}\r\n"
     ]
    }
   ],
   "execution_count": 11
  },
  {
   "metadata": {
    "ExecuteTime": {
     "end_time": "2024-12-07T00:18:18.011889Z",
     "start_time": "2024-12-07T00:18:17.876916Z"
    }
   },
   "cell_type": "code",
   "source": [
    "!curl --request POST http://127.0.0.1:8000/dtree \\\n",
    "     --header \"Content-Type: application/json\" \\\n",
    "     --data-raw '{penguin_2_json}'"
   ],
   "id": "c821ef8da376209a",
   "outputs": [
    {
     "name": "stdout",
     "output_type": "stream",
     "text": [
      "{\r\n",
      "  \"percentage\": 100.0,\r\n",
      "  \"probability\": 1,\r\n",
      "  \"species\": \"Adelie\"\r\n",
      "}\r\n"
     ]
    }
   ],
   "execution_count": 12
  },
  {
   "metadata": {
    "ExecuteTime": {
     "end_time": "2024-12-07T00:18:20.044830Z",
     "start_time": "2024-12-07T00:18:19.912790Z"
    }
   },
   "cell_type": "code",
   "source": [
    "!curl --request POST http://127.0.0.1:8000/dtree \\\n",
    "     --header \"Content-Type: application/json\" \\\n",
    "     --data-raw '{penguin_3_json}'"
   ],
   "id": "e54edc25bc739ae1",
   "outputs": [
    {
     "name": "stdout",
     "output_type": "stream",
     "text": [
      "{\r\n",
      "  \"percentage\": 100.0,\r\n",
      "  \"probability\": 1,\r\n",
      "  \"species\": \"Adelie\"\r\n",
      "}\r\n"
     ]
    }
   ],
   "execution_count": 13
  },
  {
   "metadata": {},
   "cell_type": "markdown",
   "source": "## K-Nearest Neighbors",
   "id": "e66c2c914004c4a7"
  },
  {
   "metadata": {
    "ExecuteTime": {
     "end_time": "2024-12-07T00:18:22.373529Z",
     "start_time": "2024-12-07T00:18:22.238908Z"
    }
   },
   "cell_type": "code",
   "source": [
    "!curl --request POST http://127.0.0.1:8000/knn \\\n",
    "     --header \"Content-Type: application/json\" \\\n",
    "     --data-raw '{penguin_1_json}'"
   ],
   "id": "26581c5e66980d4b",
   "outputs": [
    {
     "name": "stdout",
     "output_type": "stream",
     "text": [
      "{\r\n",
      "  \"percentage\": 100.0,\r\n",
      "  \"probability\": 1,\r\n",
      "  \"species\": \"Adelie\"\r\n",
      "}\r\n"
     ]
    }
   ],
   "execution_count": 14
  },
  {
   "metadata": {
    "ExecuteTime": {
     "end_time": "2024-12-07T00:18:24.664404Z",
     "start_time": "2024-12-07T00:18:24.532591Z"
    }
   },
   "cell_type": "code",
   "source": [
    "!curl --request POST http://127.0.0.1:8000/knn \\\n",
    "     --header \"Content-Type: application/json\" \\\n",
    "     --data-raw '{penguin_2_json}'"
   ],
   "id": "cdc227bbb5556781",
   "outputs": [
    {
     "name": "stdout",
     "output_type": "stream",
     "text": [
      "{\r\n",
      "  \"percentage\": 100.0,\r\n",
      "  \"probability\": 1,\r\n",
      "  \"species\": \"Adelie\"\r\n",
      "}\r\n"
     ]
    }
   ],
   "execution_count": 15
  },
  {
   "metadata": {
    "ExecuteTime": {
     "end_time": "2024-12-07T00:18:27.215860Z",
     "start_time": "2024-12-07T00:18:27.082138Z"
    }
   },
   "cell_type": "code",
   "source": [
    "!curl --request POST http://127.0.0.1:8000/knn \\\n",
    "     --header \"Content-Type: application/json\" \\\n",
    "     --data-raw '{penguin_3_json}'"
   ],
   "id": "ebe3f7a13a430e67",
   "outputs": [
    {
     "name": "stdout",
     "output_type": "stream",
     "text": [
      "{\r\n",
      "  \"percentage\": 100.0,\r\n",
      "  \"probability\": 1,\r\n",
      "  \"species\": \"Gentoo\"\r\n",
      "}\r\n"
     ]
    }
   ],
   "execution_count": 16
  }
 ],
 "metadata": {
  "kernelspec": {
   "display_name": "Python 3",
   "language": "python",
   "name": "python3"
  },
  "language_info": {
   "codemirror_mode": {
    "name": "ipython",
    "version": 2
   },
   "file_extension": ".py",
   "mimetype": "text/x-python",
   "name": "python",
   "nbconvert_exporter": "python",
   "pygments_lexer": "ipython2",
   "version": "2.7.6"
  }
 },
 "nbformat": 4,
 "nbformat_minor": 5
}
