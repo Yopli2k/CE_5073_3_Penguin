{
 "cells": [
  {
   "metadata": {},
   "cell_type": "markdown",
   "source": [
    "# Peticiones de predicción\n",
    "## Test Data"
   ],
   "id": "2fa846a8a88056a7"
  },
  {
   "metadata": {
    "ExecuteTime": {
     "end_time": "2024-12-06T22:55:41.361057Z",
     "start_time": "2024-12-06T22:55:41.357774Z"
    }
   },
   "cell_type": "code",
   "source": [
    "import json\n",
    "\n",
    "penguin_1 = {\n",
    "    \"island\": \"Torgersen\",\n",
    "    \"culmen_length_mm\": 39.1,\n",
    "    \"culmen_depth_mm\": 18.7,\n",
    "    \"flipper_length_mm\": 181,\n",
    "    \"body_mass_g\": 3750,\n",
    "    \"sex\": \"MALE\",\n",
    "}\n",
    "penguin_1_json = json.dumps(penguin_1)\n",
    "\n",
    "penguin_2 = {\n",
    "    \"island\": \"Biscoe\",\n",
    "    \"culmen_length_mm\": 34.6,\n",
    "    \"culmen_depth_mm\": 17.2,\n",
    "    \"flipper_length_mm\": 189,\n",
    "    \"body_mass_g\": 3200,\n",
    "    \"sex\": \"FEMALE\",\n",
    "}\n",
    "penguin_2_json = json.dumps(penguin_2)\n",
    "\n",
    "penguin_3 = {\n",
    "    \"island\": \"Dream\",\n",
    "    \"culmen_length_mm\": 50.4,\n",
    "    \"culmen_depth_mm\": 15.7,\n",
    "    \"flipper_length_mm\": 224,\n",
    "    \"body_mass_g\": 5550,\n",
    "    \"sex\": \"MALE\",\n",
    "}\n",
    "penguin_3_json = json.dumps(penguin_3)"
   ],
   "id": "c5e75370966d5965",
   "outputs": [],
   "execution_count": 20
  },
  {
   "metadata": {},
   "cell_type": "markdown",
   "source": "## Logistic Regression",
   "id": "229c2fcebfe9ec06"
  },
  {
   "cell_type": "code",
   "id": "initial_id",
   "metadata": {
    "collapsed": true,
    "ExecuteTime": {
     "end_time": "2024-12-06T22:55:48.267285Z",
     "start_time": "2024-12-06T22:55:48.131570Z"
    }
   },
   "source": [
    "!curl --request POST http://127.0.0.1:8000/logistic \\\n",
    "     --header \"Content-Type: application/json\" \\\n",
    "     --data-raw '{penguin_1_json}'"
   ],
   "outputs": [
    {
     "name": "stdout",
     "output_type": "stream",
     "text": [
      "{\r\n",
      "  \"prediction\": false,\r\n",
      "  \"probability\": 0.0006604262514975765\r\n",
      "}\r\n"
     ]
    }
   ],
   "execution_count": 21
  },
  {
   "metadata": {
    "ExecuteTime": {
     "end_time": "2024-12-06T22:55:51.109938Z",
     "start_time": "2024-12-06T22:55:50.976931Z"
    }
   },
   "cell_type": "code",
   "source": [
    "!curl --request POST http://127.0.0.1:8000/logistic \\\n",
    "     --header \"Content-Type: application/json\" \\\n",
    "     --data-raw '{penguin_2_json}'"
   ],
   "id": "f273dbc2d1cd3eb6",
   "outputs": [
    {
     "name": "stdout",
     "output_type": "stream",
     "text": [
      "{\r\n",
      "  \"prediction\": false,\r\n",
      "  \"probability\": 0.0005770531889025173\r\n",
      "}\r\n"
     ]
    }
   ],
   "execution_count": 22
  },
  {
   "metadata": {
    "ExecuteTime": {
     "end_time": "2024-12-06T22:55:53.576532Z",
     "start_time": "2024-12-06T22:55:53.442863Z"
    }
   },
   "cell_type": "code",
   "source": [
    "!curl --request POST http://127.0.0.1:8000/logistic \\\n",
    "     --header \"Content-Type: application/json\" \\\n",
    "     --data-raw '{penguin_3_json}'"
   ],
   "id": "ccc7eb77ec6c8ce7",
   "outputs": [
    {
     "name": "stdout",
     "output_type": "stream",
     "text": [
      "{\r\n",
      "  \"prediction\": false,\r\n",
      "  \"probability\": 0.029202669613723083\r\n",
      "}\r\n"
     ]
    }
   ],
   "execution_count": 23
  },
  {
   "metadata": {},
   "cell_type": "markdown",
   "source": "## SVM",
   "id": "48a2b881af5b15df"
  },
  {
   "metadata": {
    "ExecuteTime": {
     "end_time": "2024-12-06T22:55:56.226678Z",
     "start_time": "2024-12-06T22:55:56.092639Z"
    }
   },
   "cell_type": "code",
   "source": [
    "!curl --request POST http://127.0.0.1:8000/svm \\\n",
    "     --header \"Content-Type: application/json\" \\\n",
    "     --data-raw '{penguin_1_json}'"
   ],
   "id": "68deccd06e01aa63",
   "outputs": [
    {
     "name": "stdout",
     "output_type": "stream",
     "text": [
      "{\r\n",
      "  \"prediction\": false,\r\n",
      "  \"probability\": 9.055603128729614e-05\r\n",
      "}\r\n"
     ]
    }
   ],
   "execution_count": 24
  },
  {
   "metadata": {
    "ExecuteTime": {
     "end_time": "2024-12-06T22:55:58.416044Z",
     "start_time": "2024-12-06T22:55:58.280213Z"
    }
   },
   "cell_type": "code",
   "source": [
    "!curl --request POST http://127.0.0.1:8000/svm \\\n",
    "     --header \"Content-Type: application/json\" \\\n",
    "     --data-raw '{penguin_2_json}'"
   ],
   "id": "3f1de2db59e2477",
   "outputs": [
    {
     "name": "stdout",
     "output_type": "stream",
     "text": [
      "{\r\n",
      "  \"prediction\": false,\r\n",
      "  \"probability\": 0.00037125756279117667\r\n",
      "}\r\n"
     ]
    }
   ],
   "execution_count": 25
  },
  {
   "metadata": {
    "ExecuteTime": {
     "end_time": "2024-12-06T22:56:00.901945Z",
     "start_time": "2024-12-06T22:56:00.768294Z"
    }
   },
   "cell_type": "code",
   "source": [
    "!curl --request POST http://127.0.0.1:8000/svm \\\n",
    "     --header \"Content-Type: application/json\" \\\n",
    "     --data-raw '{penguin_3_json}'"
   ],
   "id": "4d1a6137603c3e63",
   "outputs": [
    {
     "name": "stdout",
     "output_type": "stream",
     "text": [
      "{\r\n",
      "  \"prediction\": false,\r\n",
      "  \"probability\": 0.12980151357256325\r\n",
      "}\r\n"
     ]
    }
   ],
   "execution_count": 26
  },
  {
   "metadata": {},
   "cell_type": "markdown",
   "source": "## Decision Trees",
   "id": "53ac539bdc0f7bfb"
  },
  {
   "metadata": {
    "ExecuteTime": {
     "end_time": "2024-12-06T22:56:03.085059Z",
     "start_time": "2024-12-06T22:56:02.943456Z"
    }
   },
   "cell_type": "code",
   "source": [
    "!curl --request POST http://127.0.0.1:8000/dtree \\\n",
    "     --header \"Content-Type: application/json\" \\\n",
    "     --data-raw '{penguin_1_json}'"
   ],
   "id": "653c18036c796328",
   "outputs": [
    {
     "name": "stdout",
     "output_type": "stream",
     "text": [
      "{\r\n",
      "  \"prediction\": false,\r\n",
      "  \"probability\": null\r\n",
      "}\r\n"
     ]
    }
   ],
   "execution_count": 27
  },
  {
   "metadata": {
    "ExecuteTime": {
     "end_time": "2024-12-06T22:56:05.294606Z",
     "start_time": "2024-12-06T22:56:05.159579Z"
    }
   },
   "cell_type": "code",
   "source": [
    "!curl --request POST http://127.0.0.1:8000/dtree \\\n",
    "     --header \"Content-Type: application/json\" \\\n",
    "     --data-raw '{penguin_2_json}'"
   ],
   "id": "c821ef8da376209a",
   "outputs": [
    {
     "name": "stdout",
     "output_type": "stream",
     "text": [
      "{\r\n",
      "  \"prediction\": false,\r\n",
      "  \"probability\": null\r\n",
      "}\r\n"
     ]
    }
   ],
   "execution_count": 28
  },
  {
   "metadata": {
    "ExecuteTime": {
     "end_time": "2024-12-06T22:56:07.306545Z",
     "start_time": "2024-12-06T22:56:07.166758Z"
    }
   },
   "cell_type": "code",
   "source": [
    "!curl --request POST http://127.0.0.1:8000/dtree \\\n",
    "     --header \"Content-Type: application/json\" \\\n",
    "     --data-raw '{penguin_3_json}'"
   ],
   "id": "e54edc25bc739ae1",
   "outputs": [
    {
     "name": "stdout",
     "output_type": "stream",
     "text": [
      "{\r\n",
      "  \"prediction\": false,\r\n",
      "  \"probability\": null\r\n",
      "}\r\n"
     ]
    }
   ],
   "execution_count": 29
  },
  {
   "metadata": {},
   "cell_type": "markdown",
   "source": "## K-Nearest Neighbors",
   "id": "e66c2c914004c4a7"
  },
  {
   "metadata": {
    "ExecuteTime": {
     "end_time": "2024-12-06T23:02:34.585612Z",
     "start_time": "2024-12-06T23:02:33.831671Z"
    }
   },
   "cell_type": "code",
   "source": [
    "!curl --request POST http://127.0.0.1:8000/knn \\\n",
    "     --header \"Content-Type: application/json\" \\\n",
    "     --data-raw '{penguin_1_json}'"
   ],
   "id": "26581c5e66980d4b",
   "outputs": [
    {
     "name": "stdout",
     "output_type": "stream",
     "text": [
      "{\r\n",
      "  \"prediction\": false,\r\n",
      "  \"probability\": null\r\n",
      "}\r\n"
     ]
    }
   ],
   "execution_count": 33
  },
  {
   "metadata": {
    "ExecuteTime": {
     "end_time": "2024-12-06T23:02:36.697176Z",
     "start_time": "2024-12-06T23:02:36.560652Z"
    }
   },
   "cell_type": "code",
   "source": [
    "!curl --request POST http://127.0.0.1:8000/knn \\\n",
    "     --header \"Content-Type: application/json\" \\\n",
    "     --data-raw '{penguin_2_json}'"
   ],
   "id": "cdc227bbb5556781",
   "outputs": [
    {
     "name": "stdout",
     "output_type": "stream",
     "text": [
      "{\r\n",
      "  \"prediction\": false,\r\n",
      "  \"probability\": null\r\n",
      "}\r\n"
     ]
    }
   ],
   "execution_count": 34
  },
  {
   "metadata": {
    "ExecuteTime": {
     "end_time": "2024-12-06T23:02:39.582997Z",
     "start_time": "2024-12-06T23:02:39.446504Z"
    }
   },
   "cell_type": "code",
   "source": [
    "!curl --request POST http://127.0.0.1:8000/knn \\\n",
    "     --header \"Content-Type: application/json\" \\\n",
    "     --data-raw '{penguin_3_json}'"
   ],
   "id": "ebe3f7a13a430e67",
   "outputs": [
    {
     "name": "stdout",
     "output_type": "stream",
     "text": [
      "{\r\n",
      "  \"prediction\": true,\r\n",
      "  \"probability\": null\r\n",
      "}\r\n"
     ]
    }
   ],
   "execution_count": 35
  }
 ],
 "metadata": {
  "kernelspec": {
   "display_name": "Python 3",
   "language": "python",
   "name": "python3"
  },
  "language_info": {
   "codemirror_mode": {
    "name": "ipython",
    "version": 2
   },
   "file_extension": ".py",
   "mimetype": "text/x-python",
   "name": "python",
   "nbconvert_exporter": "python",
   "pygments_lexer": "ipython2",
   "version": "2.7.6"
  }
 },
 "nbformat": 4,
 "nbformat_minor": 5
}
